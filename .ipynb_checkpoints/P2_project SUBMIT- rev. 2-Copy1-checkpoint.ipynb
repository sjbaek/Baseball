{
 "cells": [
  {
   "cell_type": "markdown",
   "metadata": {},
   "source": [
    "# Question:\n",
    "### How the total salary of players in a team correlates with the winning percentage of regular seasons?"
   ]
  },
  {
   "cell_type": "markdown",
   "metadata": {},
   "source": [
    "# Description of Investigation \n",
    "### *(see the iPython notebook context below)*\n",
    "### 1. Calculate winning percentage of each team from 1985\n",
    "### 2. Calculate total salary of each team in each year\n",
    "### 3. Identify the division champions in each year \n",
    "### 4. Plot winning percentage and team salary to see if there is any correlation"
   ]
  },
  {
   "cell_type": "code",
   "execution_count": 6,
   "metadata": {
    "collapsed": false
   },
   "outputs": [],
   "source": [
    "import numpy as np\n",
    "import pandas as pd\n",
    "from pandas import Series, DataFrame\n",
    "\n",
    "import seaborn as sns\n",
    "import scipy as sp"
   ]
  },
  {
   "cell_type": "markdown",
   "metadata": {},
   "source": [
    "# Dataset used:\n",
    "### Baseball data - Salaries.csv & Teams.csv"
   ]
  },
  {
   "cell_type": "code",
   "execution_count": 7,
   "metadata": {
    "collapsed": true
   },
   "outputs": [],
   "source": [
    "fpath = 'baseballdatabank-master/core'\n",
    "\n",
    "fname_salary = 'Salaries.csv'\n",
    "fname_teams = 'Teams.csv'"
   ]
  },
  {
   "cell_type": "code",
   "execution_count": 8,
   "metadata": {
    "collapsed": false
   },
   "outputs": [],
   "source": [
    "Salary = pd.read_csv(fpath+'/'+fname_salary)\n",
    "Teams = pd.read_csv(fpath+'/'+fname_teams)"
   ]
  },
  {
   "cell_type": "markdown",
   "metadata": {},
   "source": [
    "### Data stored in \"Teams\" starts in 1870s."
   ]
  },
  {
   "cell_type": "code",
   "execution_count": 9,
   "metadata": {
    "collapsed": false
   },
   "outputs": [
    {
     "data": {
      "text/html": [
       "<div>\n",
       "<table border=\"1\" class=\"dataframe\">\n",
       "  <thead>\n",
       "    <tr style=\"text-align: right;\">\n",
       "      <th></th>\n",
       "      <th>yearID</th>\n",
       "      <th>lgID</th>\n",
       "      <th>teamID</th>\n",
       "      <th>franchID</th>\n",
       "      <th>divID</th>\n",
       "      <th>Rank</th>\n",
       "      <th>G</th>\n",
       "      <th>Ghome</th>\n",
       "      <th>W</th>\n",
       "      <th>L</th>\n",
       "      <th>...</th>\n",
       "      <th>DP</th>\n",
       "      <th>FP</th>\n",
       "      <th>name</th>\n",
       "      <th>park</th>\n",
       "      <th>attendance</th>\n",
       "      <th>BPF</th>\n",
       "      <th>PPF</th>\n",
       "      <th>teamIDBR</th>\n",
       "      <th>teamIDlahman45</th>\n",
       "      <th>teamIDretro</th>\n",
       "    </tr>\n",
       "  </thead>\n",
       "  <tbody>\n",
       "    <tr>\n",
       "      <th>0</th>\n",
       "      <td>1871</td>\n",
       "      <td>NaN</td>\n",
       "      <td>BS1</td>\n",
       "      <td>BNA</td>\n",
       "      <td>NaN</td>\n",
       "      <td>3</td>\n",
       "      <td>31</td>\n",
       "      <td>NaN</td>\n",
       "      <td>20</td>\n",
       "      <td>10</td>\n",
       "      <td>...</td>\n",
       "      <td>NaN</td>\n",
       "      <td>0.83</td>\n",
       "      <td>Boston Red Stockings</td>\n",
       "      <td>South End Grounds I</td>\n",
       "      <td>NaN</td>\n",
       "      <td>103</td>\n",
       "      <td>98</td>\n",
       "      <td>BOS</td>\n",
       "      <td>BS1</td>\n",
       "      <td>BS1</td>\n",
       "    </tr>\n",
       "    <tr>\n",
       "      <th>1</th>\n",
       "      <td>1871</td>\n",
       "      <td>NaN</td>\n",
       "      <td>CH1</td>\n",
       "      <td>CNA</td>\n",
       "      <td>NaN</td>\n",
       "      <td>2</td>\n",
       "      <td>28</td>\n",
       "      <td>NaN</td>\n",
       "      <td>19</td>\n",
       "      <td>9</td>\n",
       "      <td>...</td>\n",
       "      <td>NaN</td>\n",
       "      <td>0.82</td>\n",
       "      <td>Chicago White Stockings</td>\n",
       "      <td>Union Base-Ball Grounds</td>\n",
       "      <td>NaN</td>\n",
       "      <td>104</td>\n",
       "      <td>102</td>\n",
       "      <td>CHI</td>\n",
       "      <td>CH1</td>\n",
       "      <td>CH1</td>\n",
       "    </tr>\n",
       "    <tr>\n",
       "      <th>2</th>\n",
       "      <td>1871</td>\n",
       "      <td>NaN</td>\n",
       "      <td>CL1</td>\n",
       "      <td>CFC</td>\n",
       "      <td>NaN</td>\n",
       "      <td>8</td>\n",
       "      <td>29</td>\n",
       "      <td>NaN</td>\n",
       "      <td>10</td>\n",
       "      <td>19</td>\n",
       "      <td>...</td>\n",
       "      <td>NaN</td>\n",
       "      <td>0.81</td>\n",
       "      <td>Cleveland Forest Citys</td>\n",
       "      <td>National Association Grounds</td>\n",
       "      <td>NaN</td>\n",
       "      <td>96</td>\n",
       "      <td>100</td>\n",
       "      <td>CLE</td>\n",
       "      <td>CL1</td>\n",
       "      <td>CL1</td>\n",
       "    </tr>\n",
       "    <tr>\n",
       "      <th>3</th>\n",
       "      <td>1871</td>\n",
       "      <td>NaN</td>\n",
       "      <td>FW1</td>\n",
       "      <td>KEK</td>\n",
       "      <td>NaN</td>\n",
       "      <td>7</td>\n",
       "      <td>19</td>\n",
       "      <td>NaN</td>\n",
       "      <td>7</td>\n",
       "      <td>12</td>\n",
       "      <td>...</td>\n",
       "      <td>NaN</td>\n",
       "      <td>0.80</td>\n",
       "      <td>Fort Wayne Kekiongas</td>\n",
       "      <td>Hamilton Field</td>\n",
       "      <td>NaN</td>\n",
       "      <td>101</td>\n",
       "      <td>107</td>\n",
       "      <td>KEK</td>\n",
       "      <td>FW1</td>\n",
       "      <td>FW1</td>\n",
       "    </tr>\n",
       "    <tr>\n",
       "      <th>4</th>\n",
       "      <td>1871</td>\n",
       "      <td>NaN</td>\n",
       "      <td>NY2</td>\n",
       "      <td>NNA</td>\n",
       "      <td>NaN</td>\n",
       "      <td>5</td>\n",
       "      <td>33</td>\n",
       "      <td>NaN</td>\n",
       "      <td>16</td>\n",
       "      <td>17</td>\n",
       "      <td>...</td>\n",
       "      <td>NaN</td>\n",
       "      <td>0.83</td>\n",
       "      <td>New York Mutuals</td>\n",
       "      <td>Union Grounds (Brooklyn)</td>\n",
       "      <td>NaN</td>\n",
       "      <td>90</td>\n",
       "      <td>88</td>\n",
       "      <td>NYU</td>\n",
       "      <td>NY2</td>\n",
       "      <td>NY2</td>\n",
       "    </tr>\n",
       "  </tbody>\n",
       "</table>\n",
       "<p>5 rows × 48 columns</p>\n",
       "</div>"
      ],
      "text/plain": [
       "   yearID lgID teamID franchID divID  Rank   G  Ghome   W   L     ...       \\\n",
       "0    1871  NaN    BS1      BNA   NaN     3  31    NaN  20  10     ...        \n",
       "1    1871  NaN    CH1      CNA   NaN     2  28    NaN  19   9     ...        \n",
       "2    1871  NaN    CL1      CFC   NaN     8  29    NaN  10  19     ...        \n",
       "3    1871  NaN    FW1      KEK   NaN     7  19    NaN   7  12     ...        \n",
       "4    1871  NaN    NY2      NNA   NaN     5  33    NaN  16  17     ...        \n",
       "\n",
       "   DP    FP                     name                          park  \\\n",
       "0 NaN  0.83     Boston Red Stockings           South End Grounds I   \n",
       "1 NaN  0.82  Chicago White Stockings       Union Base-Ball Grounds   \n",
       "2 NaN  0.81   Cleveland Forest Citys  National Association Grounds   \n",
       "3 NaN  0.80     Fort Wayne Kekiongas                Hamilton Field   \n",
       "4 NaN  0.83         New York Mutuals      Union Grounds (Brooklyn)   \n",
       "\n",
       "   attendance  BPF  PPF  teamIDBR  teamIDlahman45  teamIDretro  \n",
       "0         NaN  103   98       BOS             BS1          BS1  \n",
       "1         NaN  104  102       CHI             CH1          CH1  \n",
       "2         NaN   96  100       CLE             CL1          CL1  \n",
       "3         NaN  101  107       KEK             FW1          FW1  \n",
       "4         NaN   90   88       NYU             NY2          NY2  \n",
       "\n",
       "[5 rows x 48 columns]"
      ]
     },
     "execution_count": 9,
     "metadata": {},
     "output_type": "execute_result"
    }
   ],
   "source": [
    "Teams.head()"
   ]
  },
  {
   "cell_type": "markdown",
   "metadata": {},
   "source": [
    "### The salary data, however, is availabe after 1985"
   ]
  },
  {
   "cell_type": "code",
   "execution_count": 10,
   "metadata": {
    "collapsed": false
   },
   "outputs": [
    {
     "data": {
      "text/html": [
       "<div>\n",
       "<table border=\"1\" class=\"dataframe\">\n",
       "  <thead>\n",
       "    <tr style=\"text-align: right;\">\n",
       "      <th></th>\n",
       "      <th>yearID</th>\n",
       "      <th>teamID</th>\n",
       "      <th>lgID</th>\n",
       "      <th>playerID</th>\n",
       "      <th>salary</th>\n",
       "    </tr>\n",
       "  </thead>\n",
       "  <tbody>\n",
       "    <tr>\n",
       "      <th>0</th>\n",
       "      <td>1985</td>\n",
       "      <td>ATL</td>\n",
       "      <td>NL</td>\n",
       "      <td>barkele01</td>\n",
       "      <td>870000</td>\n",
       "    </tr>\n",
       "    <tr>\n",
       "      <th>1</th>\n",
       "      <td>1985</td>\n",
       "      <td>ATL</td>\n",
       "      <td>NL</td>\n",
       "      <td>bedrost01</td>\n",
       "      <td>550000</td>\n",
       "    </tr>\n",
       "    <tr>\n",
       "      <th>2</th>\n",
       "      <td>1985</td>\n",
       "      <td>ATL</td>\n",
       "      <td>NL</td>\n",
       "      <td>benedbr01</td>\n",
       "      <td>545000</td>\n",
       "    </tr>\n",
       "  </tbody>\n",
       "</table>\n",
       "</div>"
      ],
      "text/plain": [
       "   yearID teamID lgID   playerID  salary\n",
       "0    1985    ATL   NL  barkele01  870000\n",
       "1    1985    ATL   NL  bedrost01  550000\n",
       "2    1985    ATL   NL  benedbr01  545000"
      ]
     },
     "execution_count": 10,
     "metadata": {},
     "output_type": "execute_result"
    }
   ],
   "source": [
    "Salary.head(3)"
   ]
  },
  {
   "cell_type": "markdown",
   "metadata": {},
   "source": [
    "### Focus on Team data after 1985"
   ]
  },
  {
   "cell_type": "code",
   "execution_count": 11,
   "metadata": {
    "collapsed": false
   },
   "outputs": [],
   "source": [
    "Teams_a = Teams[Teams['yearID']>=1985]\n",
    "Salary_a = Salary[Salary['yearID']>=1985]"
   ]
  },
  {
   "cell_type": "code",
   "execution_count": 12,
   "metadata": {
    "collapsed": false
   },
   "outputs": [
    {
     "data": {
      "text/plain": [
       "Index([u'yearID', u'lgID', u'teamID', u'franchID', u'divID', u'Rank', u'G',\n",
       "       u'Ghome', u'W', u'L', u'DivWin', u'WCWin', u'LgWin', u'WSWin', u'R',\n",
       "       u'AB', u'H', u'2B', u'3B', u'HR', u'BB', u'SO', u'SB', u'CS', u'HBP',\n",
       "       u'SF', u'RA', u'ER', u'ERA', u'CG', u'SHO', u'SV', u'IPouts', u'HA',\n",
       "       u'HRA', u'BBA', u'SOA', u'E', u'DP', u'FP', u'name', u'park',\n",
       "       u'attendance', u'BPF', u'PPF', u'teamIDBR', u'teamIDlahman45',\n",
       "       u'teamIDretro'],\n",
       "      dtype='object')"
      ]
     },
     "execution_count": 12,
     "metadata": {},
     "output_type": "execute_result"
    }
   ],
   "source": [
    "Teams_a.columns"
   ]
  },
  {
   "cell_type": "markdown",
   "metadata": {},
   "source": [
    "### Identify the top rank team in each season in each division"
   ]
  },
  {
   "cell_type": "code",
   "execution_count": 13,
   "metadata": {
    "collapsed": false
   },
   "outputs": [
    {
     "name": "stderr",
     "output_type": "stream",
     "text": [
      "/Users/seungjinbaek/anaconda/lib/python2.7/site-packages/ipykernel/__main__.py:1: SettingWithCopyWarning: \n",
      "A value is trying to be set on a copy of a slice from a DataFrame.\n",
      "Try using .loc[row_indexer,col_indexer] = value instead\n",
      "\n",
      "See the caveats in the documentation: http://pandas.pydata.org/pandas-docs/stable/indexing.html#indexing-view-versus-copy\n",
      "  if __name__ == '__main__':\n"
     ]
    }
   ],
   "source": [
    "Teams_a['Top1'] = 0"
   ]
  },
  {
   "cell_type": "code",
   "execution_count": 14,
   "metadata": {
    "collapsed": false
   },
   "outputs": [
    {
     "name": "stderr",
     "output_type": "stream",
     "text": [
      "/Users/seungjinbaek/anaconda/lib/python2.7/site-packages/ipykernel/__main__.py:1: SettingWithCopyWarning: \n",
      "A value is trying to be set on a copy of a slice from a DataFrame\n",
      "\n",
      "See the caveats in the documentation: http://pandas.pydata.org/pandas-docs/stable/indexing.html#indexing-view-versus-copy\n",
      "  if __name__ == '__main__':\n",
      "/Users/seungjinbaek/anaconda/lib/python2.7/site-packages/pandas/core/generic.py:4428: SettingWithCopyWarning: \n",
      "A value is trying to be set on a copy of a slice from a DataFrame\n",
      "\n",
      "See the caveats in the documentation: http://pandas.pydata.org/pandas-docs/stable/indexing.html#indexing-view-versus-copy\n",
      "  self._update_inplace(new_data)\n",
      "/Users/seungjinbaek/anaconda/lib/python2.7/site-packages/IPython/core/interactiveshell.py:2885: SettingWithCopyWarning: \n",
      "A value is trying to be set on a copy of a slice from a DataFrame\n",
      "\n",
      "See the caveats in the documentation: http://pandas.pydata.org/pandas-docs/stable/indexing.html#indexing-view-versus-copy\n",
      "  exec(code_obj, self.user_global_ns, self.user_ns)\n"
     ]
    }
   ],
   "source": [
    "Teams_a['Top1'][Teams_a['Rank']==1] = 1"
   ]
  },
  {
   "cell_type": "markdown",
   "metadata": {},
   "source": [
    "## Adding winning percentage column to the dataframe"
   ]
  },
  {
   "cell_type": "code",
   "execution_count": 15,
   "metadata": {
    "collapsed": false
   },
   "outputs": [
    {
     "name": "stderr",
     "output_type": "stream",
     "text": [
      "/Users/seungjinbaek/anaconda/lib/python2.7/site-packages/ipykernel/__main__.py:2: SettingWithCopyWarning: \n",
      "A value is trying to be set on a copy of a slice from a DataFrame.\n",
      "Try using .loc[row_indexer,col_indexer] = value instead\n",
      "\n",
      "See the caveats in the documentation: http://pandas.pydata.org/pandas-docs/stable/indexing.html#indexing-view-versus-copy\n",
      "  from ipykernel import kernelapp as app\n"
     ]
    }
   ],
   "source": [
    "## TopTeams = Teams30yr[Teams30yr['Rank']<5].groupby(['lgID','divID'])\n",
    "Teams_a['WinPct'] = Teams_a['W']/(Teams_a['W']+Teams_a['L'])"
   ]
  },
  {
   "cell_type": "markdown",
   "metadata": {},
   "source": [
    "#### * Visualize the grouped data and sort them by 'Rank' "
   ]
  },
  {
   "cell_type": "code",
   "execution_count": 16,
   "metadata": {
    "collapsed": false
   },
   "outputs": [
    {
     "name": "stdout",
     "output_type": "stream",
     "text": [
      "Year: 1985, League: AL, Div: E\n",
      "      yearID lgID teamID               name  Rank   W    L    WinPct  Top1\n",
      "1942    1985   AL    TOR  Toronto Blue Jays     1  99   62  0.614907     1\n",
      "1932    1985   AL    NYA   New York Yankees     2  97   64  0.602484     0\n",
      "1925    1985   AL    DET     Detroit Tigers     3  84   77  0.521739     0\n",
      "1918    1985   AL    BAL  Baltimore Orioles     4  83   78  0.515528     0\n",
      "1919    1985   AL    BOS     Boston Red Sox     5  81   81  0.500000     0\n",
      "1930    1985   AL    ML4  Milwaukee Brewers     6  71   90  0.440994     0\n",
      "1924    1985   AL    CLE  Cleveland Indians     7  60  102  0.370370     0\n",
      "\n",
      "\n",
      "Year: 1985, League: AL, Div: W\n",
      "      yearID lgID teamID                name  Rank   W   L    WinPct  Top1\n",
      "1927    1985   AL    KCA  Kansas City Royals     1  91  71  0.561728     1\n",
      "1920    1985   AL    CAL   California Angels     2  90  72  0.555556     0\n",
      "1921    1985   AL    CHA   Chicago White Sox     3  85  77  0.524691     0\n",
      "1929    1985   AL    MIN     Minnesota Twins     4  77  85  0.475309     0\n",
      "1934    1985   AL    OAK   Oakland Athletics     4  77  85  0.475309     0\n",
      "1938    1985   AL    SEA    Seattle Mariners     6  74  88  0.456790     0\n",
      "1941    1985   AL    TEX       Texas Rangers     7  62  99  0.385093     0\n",
      "\n",
      "\n",
      "Year: 1985, League: NL, Div: E\n",
      "      yearID lgID teamID                   name  Rank    W    L    WinPct  \\\n",
      "1940    1985   NL    SLN    St. Louis Cardinals     1  101   61  0.623457   \n",
      "1933    1985   NL    NYN          New York Mets     2   98   64  0.604938   \n",
      "1931    1985   NL    MON         Montreal Expos     3   84   77  0.521739   \n",
      "1922    1985   NL    CHN           Chicago Cubs     4   77   84  0.478261   \n",
      "1935    1985   NL    PHI  Philadelphia Phillies     5   75   87  0.462963   \n",
      "1936    1985   NL    PIT     Pittsburgh Pirates     6   57  104  0.354037   \n",
      "\n",
      "      Top1  \n",
      "1940     1  \n",
      "1933     0  \n",
      "1931     0  \n",
      "1922     0  \n",
      "1935     0  \n",
      "1936     0  \n",
      "\n",
      "\n",
      "Year: 1985, League: NL, Div: W\n",
      "      yearID lgID teamID                  name  Rank   W    L    WinPct  Top1\n",
      "1928    1985   NL    LAN   Los Angeles Dodgers     1  95   67  0.586420     1\n",
      "1923    1985   NL    CIN       Cincinnati Reds     2  89   72  0.552795     0\n",
      "1926    1985   NL    HOU        Houston Astros     3  83   79  0.512346     0\n",
      "1937    1985   NL    SDN      San Diego Padres     3  83   79  0.512346     0\n",
      "1917    1985   NL    ATL        Atlanta Braves     5  66   96  0.407407     0\n",
      "1939    1985   NL    SFN  San Francisco Giants     6  62  100  0.382716     0\n",
      "\n",
      "\n",
      "Year: 1986, League: AL, Div: E\n",
      "      yearID lgID teamID               name  Rank   W   L    WinPct  Top1\n",
      "1945    1986   AL    BOS     Boston Red Sox     1  95  66  0.590062     1\n",
      "1958    1986   AL    NYA   New York Yankees     2  90  72  0.555556     0\n",
      "1951    1986   AL    DET     Detroit Tigers     3  87  75  0.537037     0\n",
      "1968    1986   AL    TOR  Toronto Blue Jays     4  86  76  0.530864     0\n",
      "1950    1986   AL    CLE  Cleveland Indians     5  84  78  0.518519     0\n",
      "1956    1986   AL    ML4  Milwaukee Brewers     6  77  84  0.478261     0\n",
      "1944    1986   AL    BAL  Baltimore Orioles     7  73  89  0.450617     0\n",
      "\n",
      "\n",
      "Year: 1986, League: AL, Div: W\n",
      "      yearID lgID teamID                name  Rank   W   L    WinPct  Top1\n",
      "1946    1986   AL    CAL   California Angels     1  92  70  0.567901     1\n",
      "1967    1986   AL    TEX       Texas Rangers     2  87  75  0.537037     0\n",
      "1953    1986   AL    KCA  Kansas City Royals     3  76  86  0.469136     0\n",
      "1960    1986   AL    OAK   Oakland Athletics     3  76  86  0.469136     0\n",
      "1947    1986   AL    CHA   Chicago White Sox     5  72  90  0.444444     0\n",
      "1955    1986   AL    MIN     Minnesota Twins     6  71  91  0.438272     0\n",
      "1964    1986   AL    SEA    Seattle Mariners     7  67  95  0.413580     0\n",
      "\n",
      "\n",
      "Year: 1986, League: NL, Div: E\n",
      "      yearID lgID teamID                   name  Rank    W   L    WinPct  Top1\n",
      "1959    1986   NL    NYN          New York Mets     1  108  54  0.666667     1\n",
      "1961    1986   NL    PHI  Philadelphia Phillies     2   86  75  0.534161     0\n",
      "1966    1986   NL    SLN    St. Louis Cardinals     3   79  82  0.490683     0\n",
      "1957    1986   NL    MON         Montreal Expos     4   78  83  0.484472     0\n",
      "1948    1986   NL    CHN           Chicago Cubs     5   70  90  0.437500     0\n",
      "1962    1986   NL    PIT     Pittsburgh Pirates     6   64  98  0.395062     0\n",
      "\n",
      "\n",
      "Year: 1986, League: NL, Div: W\n",
      "      yearID lgID teamID                  name  Rank   W   L    WinPct  Top1\n",
      "1952    1986   NL    HOU        Houston Astros     1  96  66  0.592593     1\n",
      "1949    1986   NL    CIN       Cincinnati Reds     2  86  76  0.530864     0\n",
      "1965    1986   NL    SFN  San Francisco Giants     3  83  79  0.512346     0\n",
      "1963    1986   NL    SDN      San Diego Padres     4  74  88  0.456790     0\n",
      "1954    1986   NL    LAN   Los Angeles Dodgers     5  73  89  0.450617     0\n",
      "1943    1986   NL    ATL        Atlanta Braves     6  72  89  0.447205     0\n",
      "\n",
      "\n"
     ]
    },
    {
     "name": "stderr",
     "output_type": "stream",
     "text": [
      "/Users/seungjinbaek/anaconda/lib/python2.7/site-packages/ipykernel/__main__.py:5: FutureWarning: sort(columns=....) is deprecated, use sort_values(by=.....)\n"
     ]
    }
   ],
   "source": [
    "# Truncate the screen output up to the year 1986\n",
    "\n",
    "for (yearID,lgID,divID), group in Teams_a[Teams_a['yearID'] < 1987].groupby(['yearID','lgID','divID']):\n",
    "    print \"Year: %s, League: %s, Div: %s\" %(yearID,lgID,divID)\n",
    "    print group[['yearID','lgID','teamID','name','Rank','W','L','WinPct','Top1']].sort('Rank')\n",
    "    print '\\n'\n",
    "    #if group['yearID'] > 1998:\n",
    "    #    break\n",
    "    "
   ]
  },
  {
   "cell_type": "markdown",
   "metadata": {},
   "source": [
    "## Now, investigate the salary information"
   ]
  },
  {
   "cell_type": "markdown",
   "metadata": {},
   "source": [
    "### The salary data was given for every single player"
   ]
  },
  {
   "cell_type": "code",
   "execution_count": 17,
   "metadata": {
    "collapsed": false
   },
   "outputs": [
    {
     "data": {
      "text/html": [
       "<div>\n",
       "<table border=\"1\" class=\"dataframe\">\n",
       "  <thead>\n",
       "    <tr style=\"text-align: right;\">\n",
       "      <th></th>\n",
       "      <th>yearID</th>\n",
       "      <th>teamID</th>\n",
       "      <th>lgID</th>\n",
       "      <th>playerID</th>\n",
       "      <th>salary</th>\n",
       "    </tr>\n",
       "  </thead>\n",
       "  <tbody>\n",
       "    <tr>\n",
       "      <th>0</th>\n",
       "      <td>1985</td>\n",
       "      <td>ATL</td>\n",
       "      <td>NL</td>\n",
       "      <td>barkele01</td>\n",
       "      <td>870000</td>\n",
       "    </tr>\n",
       "    <tr>\n",
       "      <th>1</th>\n",
       "      <td>1985</td>\n",
       "      <td>ATL</td>\n",
       "      <td>NL</td>\n",
       "      <td>bedrost01</td>\n",
       "      <td>550000</td>\n",
       "    </tr>\n",
       "    <tr>\n",
       "      <th>2</th>\n",
       "      <td>1985</td>\n",
       "      <td>ATL</td>\n",
       "      <td>NL</td>\n",
       "      <td>benedbr01</td>\n",
       "      <td>545000</td>\n",
       "    </tr>\n",
       "    <tr>\n",
       "      <th>3</th>\n",
       "      <td>1985</td>\n",
       "      <td>ATL</td>\n",
       "      <td>NL</td>\n",
       "      <td>campri01</td>\n",
       "      <td>633333</td>\n",
       "    </tr>\n",
       "    <tr>\n",
       "      <th>4</th>\n",
       "      <td>1985</td>\n",
       "      <td>ATL</td>\n",
       "      <td>NL</td>\n",
       "      <td>ceronri01</td>\n",
       "      <td>625000</td>\n",
       "    </tr>\n",
       "  </tbody>\n",
       "</table>\n",
       "</div>"
      ],
      "text/plain": [
       "   yearID teamID lgID   playerID  salary\n",
       "0    1985    ATL   NL  barkele01  870000\n",
       "1    1985    ATL   NL  bedrost01  550000\n",
       "2    1985    ATL   NL  benedbr01  545000\n",
       "3    1985    ATL   NL   campri01  633333\n",
       "4    1985    ATL   NL  ceronri01  625000"
      ]
     },
     "execution_count": 17,
     "metadata": {},
     "output_type": "execute_result"
    }
   ],
   "source": [
    "Salary_a.head()"
   ]
  },
  {
   "cell_type": "markdown",
   "metadata": {},
   "source": [
    "## Need to group the salary data by year and team\n",
    "## Compute the total yearly team salary and compare it with team's winning pct in that year"
   ]
  },
  {
   "cell_type": "code",
   "execution_count": 18,
   "metadata": {
    "collapsed": false
   },
   "outputs": [],
   "source": [
    "salary_grouped = Salary_a.groupby(['yearID','teamID']).sum() \n",
    "salary_grouped_a = Salary[Salary.yearID >= 1985].groupby(['yearID','teamID'], as_index = False).sum() \n",
    "\n",
    "# this will return a 'groupby' object"
   ]
  },
  {
   "cell_type": "markdown",
   "metadata": {},
   "source": [
    "### salary data is now grouped \"per team per year\" basis"
   ]
  },
  {
   "cell_type": "code",
   "execution_count": 19,
   "metadata": {
    "collapsed": false
   },
   "outputs": [
    {
     "data": {
      "text/html": [
       "<div>\n",
       "<table border=\"1\" class=\"dataframe\">\n",
       "  <thead>\n",
       "    <tr style=\"text-align: right;\">\n",
       "      <th></th>\n",
       "      <th>yearID</th>\n",
       "      <th>teamID</th>\n",
       "      <th>salary</th>\n",
       "    </tr>\n",
       "  </thead>\n",
       "  <tbody>\n",
       "    <tr>\n",
       "      <th>0</th>\n",
       "      <td>1985</td>\n",
       "      <td>ATL</td>\n",
       "      <td>14807000</td>\n",
       "    </tr>\n",
       "    <tr>\n",
       "      <th>1</th>\n",
       "      <td>1985</td>\n",
       "      <td>BAL</td>\n",
       "      <td>11560712</td>\n",
       "    </tr>\n",
       "    <tr>\n",
       "      <th>2</th>\n",
       "      <td>1985</td>\n",
       "      <td>BOS</td>\n",
       "      <td>10897560</td>\n",
       "    </tr>\n",
       "    <tr>\n",
       "      <th>3</th>\n",
       "      <td>1985</td>\n",
       "      <td>CAL</td>\n",
       "      <td>14427894</td>\n",
       "    </tr>\n",
       "    <tr>\n",
       "      <th>4</th>\n",
       "      <td>1985</td>\n",
       "      <td>CHA</td>\n",
       "      <td>9846178</td>\n",
       "    </tr>\n",
       "  </tbody>\n",
       "</table>\n",
       "</div>"
      ],
      "text/plain": [
       "   yearID teamID    salary\n",
       "0    1985    ATL  14807000\n",
       "1    1985    BAL  11560712\n",
       "2    1985    BOS  10897560\n",
       "3    1985    CAL  14427894\n",
       "4    1985    CHA   9846178"
      ]
     },
     "execution_count": 19,
     "metadata": {},
     "output_type": "execute_result"
    }
   ],
   "source": [
    "salary_grouped_a.head()"
   ]
  },
  {
   "cell_type": "code",
   "execution_count": 20,
   "metadata": {
    "collapsed": false
   },
   "outputs": [
    {
     "data": {
      "text/html": [
       "<div>\n",
       "<table border=\"1\" class=\"dataframe\">\n",
       "  <thead>\n",
       "    <tr style=\"text-align: right;\">\n",
       "      <th></th>\n",
       "      <th>yearID</th>\n",
       "      <th>lgID</th>\n",
       "      <th>teamID</th>\n",
       "      <th>franchID</th>\n",
       "      <th>divID</th>\n",
       "      <th>Rank</th>\n",
       "      <th>G</th>\n",
       "      <th>Ghome</th>\n",
       "      <th>W</th>\n",
       "      <th>L</th>\n",
       "      <th>...</th>\n",
       "      <th>name</th>\n",
       "      <th>park</th>\n",
       "      <th>attendance</th>\n",
       "      <th>BPF</th>\n",
       "      <th>PPF</th>\n",
       "      <th>teamIDBR</th>\n",
       "      <th>teamIDlahman45</th>\n",
       "      <th>teamIDretro</th>\n",
       "      <th>Top1</th>\n",
       "      <th>WinPct</th>\n",
       "    </tr>\n",
       "  </thead>\n",
       "  <tbody>\n",
       "    <tr>\n",
       "      <th>1917</th>\n",
       "      <td>1985</td>\n",
       "      <td>NL</td>\n",
       "      <td>ATL</td>\n",
       "      <td>ATL</td>\n",
       "      <td>W</td>\n",
       "      <td>5</td>\n",
       "      <td>162</td>\n",
       "      <td>81.0</td>\n",
       "      <td>66</td>\n",
       "      <td>96</td>\n",
       "      <td>...</td>\n",
       "      <td>Atlanta Braves</td>\n",
       "      <td>Atlanta-Fulton County Stadium</td>\n",
       "      <td>1350137.0</td>\n",
       "      <td>105</td>\n",
       "      <td>106</td>\n",
       "      <td>ATL</td>\n",
       "      <td>ATL</td>\n",
       "      <td>ATL</td>\n",
       "      <td>0</td>\n",
       "      <td>0.407407</td>\n",
       "    </tr>\n",
       "    <tr>\n",
       "      <th>1918</th>\n",
       "      <td>1985</td>\n",
       "      <td>AL</td>\n",
       "      <td>BAL</td>\n",
       "      <td>BAL</td>\n",
       "      <td>E</td>\n",
       "      <td>4</td>\n",
       "      <td>161</td>\n",
       "      <td>81.0</td>\n",
       "      <td>83</td>\n",
       "      <td>78</td>\n",
       "      <td>...</td>\n",
       "      <td>Baltimore Orioles</td>\n",
       "      <td>Memorial Stadium</td>\n",
       "      <td>2132387.0</td>\n",
       "      <td>97</td>\n",
       "      <td>97</td>\n",
       "      <td>BAL</td>\n",
       "      <td>BAL</td>\n",
       "      <td>BAL</td>\n",
       "      <td>0</td>\n",
       "      <td>0.515528</td>\n",
       "    </tr>\n",
       "    <tr>\n",
       "      <th>1919</th>\n",
       "      <td>1985</td>\n",
       "      <td>AL</td>\n",
       "      <td>BOS</td>\n",
       "      <td>BOS</td>\n",
       "      <td>E</td>\n",
       "      <td>5</td>\n",
       "      <td>163</td>\n",
       "      <td>81.0</td>\n",
       "      <td>81</td>\n",
       "      <td>81</td>\n",
       "      <td>...</td>\n",
       "      <td>Boston Red Sox</td>\n",
       "      <td>Fenway Park II</td>\n",
       "      <td>1786633.0</td>\n",
       "      <td>104</td>\n",
       "      <td>104</td>\n",
       "      <td>BOS</td>\n",
       "      <td>BOS</td>\n",
       "      <td>BOS</td>\n",
       "      <td>0</td>\n",
       "      <td>0.500000</td>\n",
       "    </tr>\n",
       "    <tr>\n",
       "      <th>1920</th>\n",
       "      <td>1985</td>\n",
       "      <td>AL</td>\n",
       "      <td>CAL</td>\n",
       "      <td>ANA</td>\n",
       "      <td>W</td>\n",
       "      <td>2</td>\n",
       "      <td>162</td>\n",
       "      <td>79.0</td>\n",
       "      <td>90</td>\n",
       "      <td>72</td>\n",
       "      <td>...</td>\n",
       "      <td>California Angels</td>\n",
       "      <td>Anaheim Stadium</td>\n",
       "      <td>2567427.0</td>\n",
       "      <td>100</td>\n",
       "      <td>100</td>\n",
       "      <td>CAL</td>\n",
       "      <td>CAL</td>\n",
       "      <td>CAL</td>\n",
       "      <td>0</td>\n",
       "      <td>0.555556</td>\n",
       "    </tr>\n",
       "    <tr>\n",
       "      <th>1921</th>\n",
       "      <td>1985</td>\n",
       "      <td>AL</td>\n",
       "      <td>CHA</td>\n",
       "      <td>CHW</td>\n",
       "      <td>W</td>\n",
       "      <td>3</td>\n",
       "      <td>163</td>\n",
       "      <td>81.0</td>\n",
       "      <td>85</td>\n",
       "      <td>77</td>\n",
       "      <td>...</td>\n",
       "      <td>Chicago White Sox</td>\n",
       "      <td>Comiskey Park</td>\n",
       "      <td>1669888.0</td>\n",
       "      <td>104</td>\n",
       "      <td>104</td>\n",
       "      <td>CHW</td>\n",
       "      <td>CHA</td>\n",
       "      <td>CHA</td>\n",
       "      <td>0</td>\n",
       "      <td>0.524691</td>\n",
       "    </tr>\n",
       "  </tbody>\n",
       "</table>\n",
       "<p>5 rows × 50 columns</p>\n",
       "</div>"
      ],
      "text/plain": [
       "      yearID lgID teamID franchID divID  Rank    G  Ghome   W   L    ...     \\\n",
       "1917    1985   NL    ATL      ATL     W     5  162   81.0  66  96    ...      \n",
       "1918    1985   AL    BAL      BAL     E     4  161   81.0  83  78    ...      \n",
       "1919    1985   AL    BOS      BOS     E     5  163   81.0  81  81    ...      \n",
       "1920    1985   AL    CAL      ANA     W     2  162   79.0  90  72    ...      \n",
       "1921    1985   AL    CHA      CHW     W     3  163   81.0  85  77    ...      \n",
       "\n",
       "                   name                           park attendance  BPF  PPF  \\\n",
       "1917     Atlanta Braves  Atlanta-Fulton County Stadium  1350137.0  105  106   \n",
       "1918  Baltimore Orioles               Memorial Stadium  2132387.0   97   97   \n",
       "1919     Boston Red Sox                 Fenway Park II  1786633.0  104  104   \n",
       "1920  California Angels                Anaheim Stadium  2567427.0  100  100   \n",
       "1921  Chicago White Sox                  Comiskey Park  1669888.0  104  104   \n",
       "\n",
       "      teamIDBR  teamIDlahman45  teamIDretro  Top1    WinPct  \n",
       "1917       ATL             ATL          ATL     0  0.407407  \n",
       "1918       BAL             BAL          BAL     0  0.515528  \n",
       "1919       BOS             BOS          BOS     0  0.500000  \n",
       "1920       CAL             CAL          CAL     0  0.555556  \n",
       "1921       CHW             CHA          CHA     0  0.524691  \n",
       "\n",
       "[5 rows x 50 columns]"
      ]
     },
     "execution_count": 20,
     "metadata": {},
     "output_type": "execute_result"
    }
   ],
   "source": [
    "Teams_a.head()  # winning percentage at last column"
   ]
  },
  {
   "cell_type": "markdown",
   "metadata": {},
   "source": [
    "# Merge two data frames\n",
    "\n",
    "### 1. Teams\n",
    "### 2. Salaries"
   ]
  },
  {
   "cell_type": "code",
   "execution_count": 21,
   "metadata": {
    "collapsed": false
   },
   "outputs": [],
   "source": [
    "# if we do this, 'outer' keeps all players name after merge\n",
    "# need to calculate sum before merging\n",
    "\n",
    "#pd.merge(Teams25yr[['yearID','teamID','WinPct','name']], \\\n",
    "#         salary_grouped25,left_on=['teamID','yearID'],right_index = True, how = 'left')\n",
    "Team_Salary = pd.merge(Teams_a[['yearID','teamID','WinPct','name','Rank','Top1']], \\\n",
    "         salary_grouped_a,on=['teamID','yearID'],right_index = False, how = 'left')"
   ]
  },
  {
   "cell_type": "markdown",
   "metadata": {},
   "source": [
    "#### * Check if the merging is done correctly"
   ]
  },
  {
   "cell_type": "code",
   "execution_count": 22,
   "metadata": {
    "collapsed": false
   },
   "outputs": [
    {
     "data": {
      "text/html": [
       "<div>\n",
       "<table border=\"1\" class=\"dataframe\">\n",
       "  <thead>\n",
       "    <tr style=\"text-align: right;\">\n",
       "      <th></th>\n",
       "      <th>yearID</th>\n",
       "      <th>teamID</th>\n",
       "      <th>WinPct</th>\n",
       "      <th>name</th>\n",
       "      <th>Rank</th>\n",
       "      <th>Top1</th>\n",
       "      <th>salary</th>\n",
       "    </tr>\n",
       "  </thead>\n",
       "  <tbody>\n",
       "    <tr>\n",
       "      <th>828</th>\n",
       "      <td>2014</td>\n",
       "      <td>ARI</td>\n",
       "      <td>0.395062</td>\n",
       "      <td>Arizona Diamondbacks</td>\n",
       "      <td>5</td>\n",
       "      <td>0</td>\n",
       "      <td>97861500</td>\n",
       "    </tr>\n",
       "    <tr>\n",
       "      <th>829</th>\n",
       "      <td>2014</td>\n",
       "      <td>ATL</td>\n",
       "      <td>0.487654</td>\n",
       "      <td>Atlanta Braves</td>\n",
       "      <td>2</td>\n",
       "      <td>0</td>\n",
       "      <td>97609000</td>\n",
       "    </tr>\n",
       "    <tr>\n",
       "      <th>830</th>\n",
       "      <td>2014</td>\n",
       "      <td>BAL</td>\n",
       "      <td>0.592593</td>\n",
       "      <td>Baltimore Orioles</td>\n",
       "      <td>1</td>\n",
       "      <td>1</td>\n",
       "      <td>103416000</td>\n",
       "    </tr>\n",
       "    <tr>\n",
       "      <th>831</th>\n",
       "      <td>2014</td>\n",
       "      <td>BOS</td>\n",
       "      <td>0.438272</td>\n",
       "      <td>Boston Red Sox</td>\n",
       "      <td>5</td>\n",
       "      <td>0</td>\n",
       "      <td>139019929</td>\n",
       "    </tr>\n",
       "    <tr>\n",
       "      <th>832</th>\n",
       "      <td>2014</td>\n",
       "      <td>CHA</td>\n",
       "      <td>0.450617</td>\n",
       "      <td>Chicago White Sox</td>\n",
       "      <td>4</td>\n",
       "      <td>0</td>\n",
       "      <td>81830500</td>\n",
       "    </tr>\n",
       "    <tr>\n",
       "      <th>833</th>\n",
       "      <td>2014</td>\n",
       "      <td>CHN</td>\n",
       "      <td>0.450617</td>\n",
       "      <td>Chicago Cubs</td>\n",
       "      <td>5</td>\n",
       "      <td>0</td>\n",
       "      <td>65522500</td>\n",
       "    </tr>\n",
       "    <tr>\n",
       "      <th>834</th>\n",
       "      <td>2014</td>\n",
       "      <td>CIN</td>\n",
       "      <td>0.469136</td>\n",
       "      <td>Cincinnati Reds</td>\n",
       "      <td>4</td>\n",
       "      <td>0</td>\n",
       "      <td>108217500</td>\n",
       "    </tr>\n",
       "    <tr>\n",
       "      <th>835</th>\n",
       "      <td>2014</td>\n",
       "      <td>CLE</td>\n",
       "      <td>0.524691</td>\n",
       "      <td>Cleveland Indians</td>\n",
       "      <td>3</td>\n",
       "      <td>0</td>\n",
       "      <td>82151899</td>\n",
       "    </tr>\n",
       "    <tr>\n",
       "      <th>836</th>\n",
       "      <td>2014</td>\n",
       "      <td>COL</td>\n",
       "      <td>0.407407</td>\n",
       "      <td>Colorado Rockies</td>\n",
       "      <td>4</td>\n",
       "      <td>0</td>\n",
       "      <td>95403500</td>\n",
       "    </tr>\n",
       "    <tr>\n",
       "      <th>837</th>\n",
       "      <td>2014</td>\n",
       "      <td>DET</td>\n",
       "      <td>0.555556</td>\n",
       "      <td>Detroit Tigers</td>\n",
       "      <td>1</td>\n",
       "      <td>1</td>\n",
       "      <td>152855500</td>\n",
       "    </tr>\n",
       "    <tr>\n",
       "      <th>838</th>\n",
       "      <td>2014</td>\n",
       "      <td>HOU</td>\n",
       "      <td>0.432099</td>\n",
       "      <td>Houston Astros</td>\n",
       "      <td>4</td>\n",
       "      <td>0</td>\n",
       "      <td>35116300</td>\n",
       "    </tr>\n",
       "    <tr>\n",
       "      <th>839</th>\n",
       "      <td>2014</td>\n",
       "      <td>KCA</td>\n",
       "      <td>0.549383</td>\n",
       "      <td>Kansas City Royals</td>\n",
       "      <td>2</td>\n",
       "      <td>0</td>\n",
       "      <td>74594075</td>\n",
       "    </tr>\n",
       "    <tr>\n",
       "      <th>840</th>\n",
       "      <td>2014</td>\n",
       "      <td>LAA</td>\n",
       "      <td>0.604938</td>\n",
       "      <td>Los Angeles Angels of Anaheim</td>\n",
       "      <td>1</td>\n",
       "      <td>1</td>\n",
       "      <td>121988250</td>\n",
       "    </tr>\n",
       "    <tr>\n",
       "      <th>841</th>\n",
       "      <td>2014</td>\n",
       "      <td>LAN</td>\n",
       "      <td>0.580247</td>\n",
       "      <td>Los Angeles Dodgers</td>\n",
       "      <td>1</td>\n",
       "      <td>1</td>\n",
       "      <td>217014600</td>\n",
       "    </tr>\n",
       "    <tr>\n",
       "      <th>842</th>\n",
       "      <td>2014</td>\n",
       "      <td>MIA</td>\n",
       "      <td>0.475309</td>\n",
       "      <td>Miami Marlins</td>\n",
       "      <td>4</td>\n",
       "      <td>0</td>\n",
       "      <td>41836900</td>\n",
       "    </tr>\n",
       "    <tr>\n",
       "      <th>843</th>\n",
       "      <td>2014</td>\n",
       "      <td>MIL</td>\n",
       "      <td>0.506173</td>\n",
       "      <td>Milwaukee Brewers</td>\n",
       "      <td>3</td>\n",
       "      <td>0</td>\n",
       "      <td>101217000</td>\n",
       "    </tr>\n",
       "    <tr>\n",
       "      <th>844</th>\n",
       "      <td>2014</td>\n",
       "      <td>MIN</td>\n",
       "      <td>0.432099</td>\n",
       "      <td>Minnesota Twins</td>\n",
       "      <td>5</td>\n",
       "      <td>0</td>\n",
       "      <td>83762500</td>\n",
       "    </tr>\n",
       "    <tr>\n",
       "      <th>845</th>\n",
       "      <td>2014</td>\n",
       "      <td>NYA</td>\n",
       "      <td>0.518519</td>\n",
       "      <td>New York Yankees</td>\n",
       "      <td>2</td>\n",
       "      <td>0</td>\n",
       "      <td>197543907</td>\n",
       "    </tr>\n",
       "    <tr>\n",
       "      <th>846</th>\n",
       "      <td>2014</td>\n",
       "      <td>NYN</td>\n",
       "      <td>0.487654</td>\n",
       "      <td>New York Mets</td>\n",
       "      <td>3</td>\n",
       "      <td>0</td>\n",
       "      <td>85556990</td>\n",
       "    </tr>\n",
       "    <tr>\n",
       "      <th>847</th>\n",
       "      <td>2014</td>\n",
       "      <td>OAK</td>\n",
       "      <td>0.543210</td>\n",
       "      <td>Oakland Athletics</td>\n",
       "      <td>2</td>\n",
       "      <td>0</td>\n",
       "      <td>72408400</td>\n",
       "    </tr>\n",
       "    <tr>\n",
       "      <th>848</th>\n",
       "      <td>2014</td>\n",
       "      <td>PHI</td>\n",
       "      <td>0.450617</td>\n",
       "      <td>Philadelphia Phillies</td>\n",
       "      <td>5</td>\n",
       "      <td>0</td>\n",
       "      <td>180944967</td>\n",
       "    </tr>\n",
       "    <tr>\n",
       "      <th>849</th>\n",
       "      <td>2014</td>\n",
       "      <td>PIT</td>\n",
       "      <td>0.543210</td>\n",
       "      <td>Pittsburgh Pirates</td>\n",
       "      <td>2</td>\n",
       "      <td>0</td>\n",
       "      <td>77178000</td>\n",
       "    </tr>\n",
       "    <tr>\n",
       "      <th>850</th>\n",
       "      <td>2014</td>\n",
       "      <td>SDN</td>\n",
       "      <td>0.475309</td>\n",
       "      <td>San Diego Padres</td>\n",
       "      <td>3</td>\n",
       "      <td>0</td>\n",
       "      <td>75685700</td>\n",
       "    </tr>\n",
       "    <tr>\n",
       "      <th>851</th>\n",
       "      <td>2014</td>\n",
       "      <td>SEA</td>\n",
       "      <td>0.537037</td>\n",
       "      <td>Seattle Mariners</td>\n",
       "      <td>3</td>\n",
       "      <td>0</td>\n",
       "      <td>92531100</td>\n",
       "    </tr>\n",
       "    <tr>\n",
       "      <th>852</th>\n",
       "      <td>2014</td>\n",
       "      <td>SFN</td>\n",
       "      <td>0.543210</td>\n",
       "      <td>San Francisco Giants</td>\n",
       "      <td>2</td>\n",
       "      <td>0</td>\n",
       "      <td>163510167</td>\n",
       "    </tr>\n",
       "    <tr>\n",
       "      <th>853</th>\n",
       "      <td>2014</td>\n",
       "      <td>SLN</td>\n",
       "      <td>0.555556</td>\n",
       "      <td>St. Louis Cardinals</td>\n",
       "      <td>1</td>\n",
       "      <td>1</td>\n",
       "      <td>120693000</td>\n",
       "    </tr>\n",
       "    <tr>\n",
       "      <th>854</th>\n",
       "      <td>2014</td>\n",
       "      <td>TBA</td>\n",
       "      <td>0.475309</td>\n",
       "      <td>Tampa Bay Rays</td>\n",
       "      <td>4</td>\n",
       "      <td>0</td>\n",
       "      <td>72689100</td>\n",
       "    </tr>\n",
       "    <tr>\n",
       "      <th>855</th>\n",
       "      <td>2014</td>\n",
       "      <td>TEX</td>\n",
       "      <td>0.413580</td>\n",
       "      <td>Texas Rangers</td>\n",
       "      <td>5</td>\n",
       "      <td>0</td>\n",
       "      <td>112255059</td>\n",
       "    </tr>\n",
       "    <tr>\n",
       "      <th>856</th>\n",
       "      <td>2014</td>\n",
       "      <td>TOR</td>\n",
       "      <td>0.512346</td>\n",
       "      <td>Toronto Blue Jays</td>\n",
       "      <td>3</td>\n",
       "      <td>0</td>\n",
       "      <td>109920100</td>\n",
       "    </tr>\n",
       "    <tr>\n",
       "      <th>857</th>\n",
       "      <td>2014</td>\n",
       "      <td>WAS</td>\n",
       "      <td>0.592593</td>\n",
       "      <td>Washington Nationals</td>\n",
       "      <td>1</td>\n",
       "      <td>1</td>\n",
       "      <td>131983680</td>\n",
       "    </tr>\n",
       "  </tbody>\n",
       "</table>\n",
       "</div>"
      ],
      "text/plain": [
       "     yearID teamID    WinPct                           name  Rank  Top1  \\\n",
       "828    2014    ARI  0.395062           Arizona Diamondbacks     5     0   \n",
       "829    2014    ATL  0.487654                 Atlanta Braves     2     0   \n",
       "830    2014    BAL  0.592593              Baltimore Orioles     1     1   \n",
       "831    2014    BOS  0.438272                 Boston Red Sox     5     0   \n",
       "832    2014    CHA  0.450617              Chicago White Sox     4     0   \n",
       "833    2014    CHN  0.450617                   Chicago Cubs     5     0   \n",
       "834    2014    CIN  0.469136                Cincinnati Reds     4     0   \n",
       "835    2014    CLE  0.524691              Cleveland Indians     3     0   \n",
       "836    2014    COL  0.407407               Colorado Rockies     4     0   \n",
       "837    2014    DET  0.555556                 Detroit Tigers     1     1   \n",
       "838    2014    HOU  0.432099                 Houston Astros     4     0   \n",
       "839    2014    KCA  0.549383             Kansas City Royals     2     0   \n",
       "840    2014    LAA  0.604938  Los Angeles Angels of Anaheim     1     1   \n",
       "841    2014    LAN  0.580247            Los Angeles Dodgers     1     1   \n",
       "842    2014    MIA  0.475309                  Miami Marlins     4     0   \n",
       "843    2014    MIL  0.506173              Milwaukee Brewers     3     0   \n",
       "844    2014    MIN  0.432099                Minnesota Twins     5     0   \n",
       "845    2014    NYA  0.518519               New York Yankees     2     0   \n",
       "846    2014    NYN  0.487654                  New York Mets     3     0   \n",
       "847    2014    OAK  0.543210              Oakland Athletics     2     0   \n",
       "848    2014    PHI  0.450617          Philadelphia Phillies     5     0   \n",
       "849    2014    PIT  0.543210             Pittsburgh Pirates     2     0   \n",
       "850    2014    SDN  0.475309               San Diego Padres     3     0   \n",
       "851    2014    SEA  0.537037               Seattle Mariners     3     0   \n",
       "852    2014    SFN  0.543210           San Francisco Giants     2     0   \n",
       "853    2014    SLN  0.555556            St. Louis Cardinals     1     1   \n",
       "854    2014    TBA  0.475309                 Tampa Bay Rays     4     0   \n",
       "855    2014    TEX  0.413580                  Texas Rangers     5     0   \n",
       "856    2014    TOR  0.512346              Toronto Blue Jays     3     0   \n",
       "857    2014    WAS  0.592593           Washington Nationals     1     1   \n",
       "\n",
       "        salary  \n",
       "828   97861500  \n",
       "829   97609000  \n",
       "830  103416000  \n",
       "831  139019929  \n",
       "832   81830500  \n",
       "833   65522500  \n",
       "834  108217500  \n",
       "835   82151899  \n",
       "836   95403500  \n",
       "837  152855500  \n",
       "838   35116300  \n",
       "839   74594075  \n",
       "840  121988250  \n",
       "841  217014600  \n",
       "842   41836900  \n",
       "843  101217000  \n",
       "844   83762500  \n",
       "845  197543907  \n",
       "846   85556990  \n",
       "847   72408400  \n",
       "848  180944967  \n",
       "849   77178000  \n",
       "850   75685700  \n",
       "851   92531100  \n",
       "852  163510167  \n",
       "853  120693000  \n",
       "854   72689100  \n",
       "855  112255059  \n",
       "856  109920100  \n",
       "857  131983680  "
      ]
     },
     "execution_count": 22,
     "metadata": {},
     "output_type": "execute_result"
    }
   ],
   "source": [
    "Team_Salary[Team_Salary.yearID == 2014]  # sample: show year 2014 data"
   ]
  },
  {
   "cell_type": "markdown",
   "metadata": {},
   "source": [
    "# Plotting "
   ]
  },
  {
   "cell_type": "code",
   "execution_count": 23,
   "metadata": {
    "collapsed": true
   },
   "outputs": [],
   "source": [
    "import matplotlib.pyplot as plt"
   ]
  },
  {
   "cell_type": "code",
   "execution_count": 24,
   "metadata": {
    "collapsed": true
   },
   "outputs": [],
   "source": [
    "%matplotlib inline"
   ]
  },
  {
   "cell_type": "markdown",
   "metadata": {},
   "source": [
    "#### * Scatter plot of the entire datasets (salary v.s. winning pct.)\n",
    "#### There is weak, but positive correlation between salary and winning percentage"
   ]
  },
  {
   "cell_type": "code",
   "execution_count": 25,
   "metadata": {
    "collapsed": false
   },
   "outputs": [
    {
     "name": "stderr",
     "output_type": "stream",
     "text": [
      "/Users/seungjinbaek/anaconda/lib/python2.7/site-packages/matplotlib/__init__.py:892: UserWarning: axes.color_cycle is deprecated and replaced with axes.prop_cycle; please use the latter.\n",
      "  warnings.warn(self.msg_depr % (key, alt_key))\n"
     ]
    },
    {
     "data": {
      "text/plain": [
       "<seaborn.axisgrid.JointGrid at 0x1179a1d50>"
      ]
     },
     "execution_count": 25,
     "metadata": {},
     "output_type": "execute_result"
    },
    {
     "data": {
      "image/png": "[encoded data removed]",
      "text/plain": [
       "<matplotlib.figure.Figure at 0x1162a9150>"
      ]
     },
     "metadata": {},
     "output_type": "display_data"
    }
   ],
   "source": [
    "sns.jointplot(Team_Salary.WinPct, Team_Salary.salary)"
   ]
  },
  {
   "cell_type": "markdown",
   "metadata": {},
   "source": [
    "#### * same dataset, but different type of scatter plot using seaborn"
   ]
  },
  {
   "cell_type": "code",
   "execution_count": 26,
   "metadata": {
    "collapsed": false
   },
   "outputs": [
    {
     "data": {
      "text/plain": [
       "<seaborn.axisgrid.JointGrid at 0x1179bab10>"
      ]
     },
     "execution_count": 26,
     "metadata": {},
     "output_type": "execute_result"
    },
    {
     "data": {
      "image/png": "[encoded data removed]",
      "text/plain": [
       "<matplotlib.figure.Figure at 0x1179a19d0>"
      ]
     },
     "metadata": {},
     "output_type": "display_data"
    }
   ],
   "source": [
    "sns.jointplot(Team_Salary.WinPct, Team_Salary.salary,kind='hex')"
   ]
  },
  {
   "cell_type": "markdown",
   "metadata": {},
   "source": [
    "#### * same dataset, but different type of scatter plot using seaborn"
   ]
  },
  {
   "cell_type": "code",
   "execution_count": null,
   "metadata": {
    "collapsed": false
   },
   "outputs": [
    {
     "data": {
      "text/plain": [
       "<seaborn.axisgrid.JointGrid at 0x1179a1110>"
      ]
     },
     "execution_count": 27,
     "metadata": {},
     "output_type": "execute_result"
    },
    {
     "data": {
      "image/png": "[encoded data removed]",
      "text/plain": [
       "<matplotlib.figure.Figure at 0x11a95d850>"
      ]
     },
     "metadata": {},
     "output_type": "display_data"
    }
   ],
   "source": [
    "sns.jointplot(Team_Salary.WinPct, Team_Salary.salary,kind='kde')"
   ]
  },
  {
   "cell_type": "code",
   "execution_count": null,
   "metadata": {
    "collapsed": false
   },
   "outputs": [
    {
     "data": {
      "text/plain": [
       "<seaborn.axisgrid.PairGrid at 0x11ab68e90>"
      ]
     },
     "execution_count": 28,
     "metadata": {},
     "output_type": "execute_result"
    }
   ],
   "source": [
    "sns.pairplot(Team_Salary[['teamID','yearID','WinPct','salary']], hue=\"teamID\")"
   ]
  },
  {
   "cell_type": "code",
   "execution_count": null,
   "metadata": {
    "collapsed": false
   },
   "outputs": [],
   "source": [
    "sns.pairplot(Team_Salary[['teamID','yearID','WinPct','salary']], hue=\"yearID\")"
   ]
  },
  {
   "cell_type": "markdown",
   "metadata": {
    "collapsed": true
   },
   "source": [
    "## < Preliminary findings >\n",
    "### 1. distribution of yearly salaries increases in recent years\n",
    "### 2. There is a weak but positive correlation in salary and winning percentage"
   ]
  },
  {
   "cell_type": "markdown",
   "metadata": {},
   "source": [
    "## * Investigate standard deviation of yearly salary (1985 ~ 2014)"
   ]
  },
  {
   "cell_type": "code",
   "execution_count": null,
   "metadata": {
    "collapsed": true
   },
   "outputs": [],
   "source": [
    "yearly_std = Team_Salary.groupby('yearID').std()"
   ]
  },
  {
   "cell_type": "code",
   "execution_count": null,
   "metadata": {
    "collapsed": false
   },
   "outputs": [],
   "source": [
    "yearly_std"
   ]
  },
  {
   "cell_type": "markdown",
   "metadata": {},
   "source": [
    "### Total salary data indicates there is more spread in total team salary among teams in recent years than in 1980s."
   ]
  },
  {
   "cell_type": "code",
   "execution_count": null,
   "metadata": {
    "collapsed": false
   },
   "outputs": [],
   "source": [
    "plt.scatter(np.arange(1985,2015),yearly_std.salary)\n",
    "plt.xlabel('year')\n",
    "plt.ylabel('std of salary data')"
   ]
  },
  {
   "cell_type": "markdown",
   "metadata": {},
   "source": [
    "### In the figure below, green dots inidcate the division winning teams. \n",
    "### Most of the years, the highest paying team ended up a division champion, but not always, for example 2007, 2008, 2010 and etc."
   ]
  },
  {
   "cell_type": "code",
   "execution_count": null,
   "metadata": {
    "collapsed": false
   },
   "outputs": [],
   "source": [
    "g=sns.FacetGrid(Team_Salary, col = \"yearID\", hue=\"Top1\",col_wrap=4)\n",
    "g.map(sns.plt.scatter,\"WinPct\",\"salary\")"
   ]
  },
  {
   "cell_type": "markdown",
   "metadata": {
    "collapsed": true
   },
   "source": [
    "### Calculating mean salary in these separate groups (division champions and other teams) would confirm the correlation between salary and winning percentage from another point of view."
   ]
  },
  {
   "cell_type": "code",
   "execution_count": null,
   "metadata": {
    "collapsed": false
   },
   "outputs": [],
   "source": [
    "Team_Salary_compare = Team_Salary.groupby(['yearID','Top1']).mean()"
   ]
  },
  {
   "cell_type": "code",
   "execution_count": null,
   "metadata": {
    "collapsed": false
   },
   "outputs": [],
   "source": [
    "Team_Salary_compare.head()"
   ]
  },
  {
   "cell_type": "markdown",
   "metadata": {},
   "source": [
    "#### convert hierarchical multi-index to columns"
   ]
  },
  {
   "cell_type": "code",
   "execution_count": null,
   "metadata": {
    "collapsed": true
   },
   "outputs": [],
   "source": [
    "Team_Salary_compare.reset_index(inplace=True)"
   ]
  },
  {
   "cell_type": "code",
   "execution_count": null,
   "metadata": {
    "collapsed": false
   },
   "outputs": [],
   "source": [
    "Team_Salary_compare.tail()"
   ]
  },
  {
   "cell_type": "code",
   "execution_count": null,
   "metadata": {
    "collapsed": false
   },
   "outputs": [],
   "source": [
    "g = sns.FacetGrid(Team_Salary_compare, hue=\"Top1\", size = 6)\n",
    "g.map(plt.scatter, \"salary\", \"yearID\", s=50, alpha=.7, linewidth=.5, edgecolor=\"white\")\n",
    "g.add_legend();"
   ]
  },
  {
   "cell_type": "markdown",
   "metadata": {},
   "source": [
    "# Conclusion: \n",
    "## In the plot above, 1 indicates division champions and 0, the rest of the teams.\n",
    "## The horizontal axis (salary) is the sum of each group (0 and 1) per each year.\n",
    "## Salary and winning percentage shows a reasonable positive correlation except years in 1980s and the year 2010.\n",
    "\n"
   ]
  },
  {
   "cell_type": "markdown",
   "metadata": {},
   "source": [
    "### -------------------------------------------------------------------------------------------------- end of 1st submission 1/15/16"
   ]
  },
  {
   "cell_type": "markdown",
   "metadata": {},
   "source": [
    "# Revision 1"
   ]
  },
  {
   "cell_type": "markdown",
   "metadata": {
    "collapsed": true
   },
   "source": [
    "## A. Exploration Phase"
   ]
  },
  {
   "cell_type": "markdown",
   "metadata": {},
   "source": [
    "### **1. Univariate plots**"
   ]
  },
  {
   "cell_type": "markdown",
   "metadata": {},
   "source": [
    " ### 1-1 Histogram of overall winning percentage (1985 ~ 2014)\n",
    " * slightly bimodal"
   ]
  },
  {
   "cell_type": "code",
   "execution_count": null,
   "metadata": {
    "collapsed": false
   },
   "outputs": [],
   "source": [
    "plt.figure(figsize=(12, 6))\n",
    "plt.hist(Team_Salary.WinPct, bins = 30)\n",
    "#Team_Salary[Team_Salary.yearID == 1985].salary\n",
    "plt.xlabel('Winning Pct')\n",
    "plt.ylabel('frequency (bin # = 30)')"
   ]
  },
  {
   "cell_type": "markdown",
   "metadata": {},
   "source": [
    "  ### 1-2 box plot of total team salary (1985~2014)\n",
    "    * After 2003, there are teams paying high salaries out of norm (outliers)\n",
    "    * But as shown in the previous figure, highest salaried team didn't always win the division title"
   ]
  },
  {
   "cell_type": "code",
   "execution_count": null,
   "metadata": {
    "collapsed": false
   },
   "outputs": [],
   "source": [
    "plt.figure(figsize=(12, 6))\n",
    "sns.boxplot(x=\"yearID\",y=\"salary\",data=Team_Salary)"
   ]
  },
  {
   "cell_type": "markdown",
   "metadata": {},
   "source": [
    "### **2. Correlation**"
   ]
  },
  {
   "cell_type": "markdown",
   "metadata": {},
   "source": [
    "### 2-1 Calculate Pearson Correlation coefficient between WinPct and salary each year"
   ]
  },
  {
   "cell_type": "code",
   "execution_count": null,
   "metadata": {
    "collapsed": false
   },
   "outputs": [],
   "source": [
    "Team_Salary.head(10)"
   ]
  },
  {
   "cell_type": "markdown",
   "metadata": {},
   "source": [
    "#### * define a function to calculate correlation coefficient"
   ]
  },
  {
   "cell_type": "code",
   "execution_count": null,
   "metadata": {
    "collapsed": true
   },
   "outputs": [],
   "source": [
    "def calc_corr(df):\n",
    "    corr_val =  sp.stats.pearsonr(df.WinPct, df.salary)\n",
    "    return corr_val[0]"
   ]
  },
  {
   "cell_type": "markdown",
   "metadata": {},
   "source": [
    "#### * group by each year"
   ]
  },
  {
   "cell_type": "code",
   "execution_count": null,
   "metadata": {
    "collapsed": true
   },
   "outputs": [],
   "source": [
    "Corr = Team_Salary.groupby('yearID')"
   ]
  },
  {
   "cell_type": "markdown",
   "metadata": {},
   "source": [
    "#### * apply the function calculating Pearson r."
   ]
  },
  {
   "cell_type": "code",
   "execution_count": null,
   "metadata": {
    "collapsed": false
   },
   "outputs": [],
   "source": [
    "corr2 = Corr.apply(calc_corr)"
   ]
  },
  {
   "cell_type": "code",
   "execution_count": null,
   "metadata": {
    "collapsed": false
   },
   "outputs": [],
   "source": [
    "corr2.to_frame()"
   ]
  },
  {
   "cell_type": "code",
   "execution_count": null,
   "metadata": {
    "collapsed": false
   },
   "outputs": [],
   "source": [
    "plt.figure(figsize=(12, 6))\n",
    "plt.plot(corr2.to_frame(), 'ro-' )\n",
    "plt.xlabel(\"year\")\n",
    "plt.title(\"Pearson correlation coeff. between winning rate and salary\")"
   ]
  },
  {
   "cell_type": "markdown",
   "metadata": {},
   "source": [
    "## B. Conclusion Phase"
   ]
  },
  {
   "cell_type": "markdown",
   "metadata": {},
   "source": [
    "#### As shown in the table (dataframe) and the plot above, the correlation between winning percentage and salary stays positive in most of the years, but it is also showing a declining trend in correlation. Considering the teams are spending more dollars on salary, this downward trending does not support that the higher salary would not directly generates a better performance in the league."
   ]
  },
  {
   "cell_type": "markdown",
   "metadata": {},
   "source": [
    "### Limitation to the analysis"
   ]
  },
  {
   "cell_type": "markdown",
   "metadata": {},
   "source": [
    "1. As pointed out by the reviewer, annual inflation rate may need to be considered when salary data are used. This analysis, however, looks more into how the distribution of total team salary in each year reflects on the winning percentage of each team.\n",
    "2. It is clearly shown that even though the mean salary increases gradually over the year, the salary distribution among teams in any given year are becoming larger in recent years. (the standard deviation plot & the box plot)\n",
    "3. The teams performance (winning percentage) is the reflection of many things; primarily teams Run-scored and pitchers ERA. It will be interesting to see the correlation between performance stats (Runs, RBIs, batting averages and ERAs) with winning percentage and/or final team ranking in each season."
   ]
  },
  {
   "cell_type": "markdown",
   "metadata": {},
   "source": [
    "### The reviewer suggests to perform 'One-way ANOVA' to exceed the specification.\n",
    "### Here's the procedure"
   ]
  },
  {
   "cell_type": "markdown",
   "metadata": {},
   "source": [
    "1. Divide the data into three groups by years\n",
    "  * group1: year 1985~1994\n",
    "  * group2: year 1995~2004\n",
    "  * group3: year 2005~2014\n",
    "  \n",
    "2. In each group, calculate a varaible, Salary_ratio: Sr = (mean salary of division champions)/(mean salary of the rest of teams) \n",
    "\n",
    "3. Null hypothesis is \n",
    "    H0: Sr1 = Sr2 = Sr3  \n",
    "\n",
    "4. If I'd be able to reject the null hypothesis, then this test proves that there would be difference in salary total between champions and the rest of the teams"
   ]
  },
  {
   "cell_type": "markdown",
   "metadata": {},
   "source": [
    "### ----------------------------------------------------------------------------------------- end of 2nd submission (revision 1) 1/20/16"
   ]
  },
  {
   "cell_type": "markdown",
   "metadata": {},
   "source": [
    "# Revision 2"
   ]
  },
  {
   "cell_type": "markdown",
   "metadata": {},
   "source": [
    "## revisit the figure"
   ]
  },
  {
   "cell_type": "code",
   "execution_count": null,
   "metadata": {
    "collapsed": false
   },
   "outputs": [],
   "source": [
    "g = sns.FacetGrid(Team_Salary_compare, hue=\"Top1\", size = 6)\n",
    "g.map(plt.scatter, \"salary\", \"yearID\", s=50, alpha=.7, linewidth=.5, edgecolor=\"white\")\n",
    "g.add_legend();"
   ]
  },
  {
   "cell_type": "code",
   "execution_count": null,
   "metadata": {
    "collapsed": false
   },
   "outputs": [],
   "source": [
    "g = sns.FacetGrid(Team_Salary_compare, hue=\"Top1\", size = 6)\n",
    "g.map(plt.scatter, \"yearID\", \"salary\", s=50, alpha=.7, linewidth=.5, edgecolor=\"white\")\n",
    "g.add_legend();"
   ]
  },
  {
   "cell_type": "markdown",
   "metadata": {},
   "source": [
    "## Now that the variables are switched. \n",
    "1. The variables shown are the mean salaries between 1) division champs and 2) rest of the team in each year.\n",
    "2. The point I tried to make using this figure was to visualize that there would be clear differences in salary between champnions and not champions leading to conclusion that even though the over correlation between salary and winning pct are decreasing in recent years, the leaders have still been spending lot more money than the rest and the gap between these two groups are diverging even further.\n",
    "3. Should/could I quantify this? then how? t-test because now we only have two groups?"
   ]
  },
  {
   "cell_type": "code",
   "execution_count": null,
   "metadata": {
    "collapsed": true
   },
   "outputs": [],
   "source": []
  }
 ],
 "metadata": {
  "kernelspec": {
   "display_name": "Python 2",
   "language": "python",
   "name": "python2"
  },
  "language_info": {
   "codemirror_mode": {
    "name": "ipython",
    "version": 2
   },
   "file_extension": ".py",
   "mimetype": "text/x-python",
   "name": "python",
   "nbconvert_exporter": "python",
   "pygments_lexer": "ipython2",
   "version": "2.7.11"
  }
 },
 "nbformat": 4,
 "nbformat_minor": 0
}
